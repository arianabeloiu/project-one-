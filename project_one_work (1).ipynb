{
  "nbformat": 4,
  "nbformat_minor": 0,
  "metadata": {
    "colab": {
      "provenance": []
    },
    "kernelspec": {
      "name": "python3",
      "display_name": "Python 3"
    },
    "language_info": {
      "name": "python"
    },
    "widgets": {
      "application/vnd.jupyter.widget-state+json": {
        "b8d140413f284d43b14a7f96c4da380c": {
          "model_module": "@jupyter-widgets/controls",
          "model_name": "HBoxModel",
          "model_module_version": "1.5.0",
          "state": {
            "_dom_classes": [],
            "_model_module": "@jupyter-widgets/controls",
            "_model_module_version": "1.5.0",
            "_model_name": "HBoxModel",
            "_view_count": null,
            "_view_module": "@jupyter-widgets/controls",
            "_view_module_version": "1.5.0",
            "_view_name": "HBoxView",
            "box_style": "",
            "children": [
              "IPY_MODEL_beb4f50f1e3a4384bf3a6f57273cdc52",
              "IPY_MODEL_f1a37349a0184ca8b5037ce44ff66bff",
              "IPY_MODEL_3658680827624836b84a93aaf43835d2"
            ],
            "layout": "IPY_MODEL_4bb46d4ccbba487d96c635bf0733691c"
          }
        },
        "beb4f50f1e3a4384bf3a6f57273cdc52": {
          "model_module": "@jupyter-widgets/controls",
          "model_name": "HTMLModel",
          "model_module_version": "1.5.0",
          "state": {
            "_dom_classes": [],
            "_model_module": "@jupyter-widgets/controls",
            "_model_module_version": "1.5.0",
            "_model_name": "HTMLModel",
            "_view_count": null,
            "_view_module": "@jupyter-widgets/controls",
            "_view_module_version": "1.5.0",
            "_view_name": "HTMLView",
            "description": "",
            "description_tooltip": null,
            "layout": "IPY_MODEL_d004256b25f44671b7ce6607a0d44779",
            "placeholder": "​",
            "style": "IPY_MODEL_d49d51bdaac14d498e66bdeb7ff97178",
            "value": ""
          }
        },
        "f1a37349a0184ca8b5037ce44ff66bff": {
          "model_module": "@jupyter-widgets/controls",
          "model_name": "FloatProgressModel",
          "model_module_version": "1.5.0",
          "state": {
            "_dom_classes": [],
            "_model_module": "@jupyter-widgets/controls",
            "_model_module_version": "1.5.0",
            "_model_name": "FloatProgressModel",
            "_view_count": null,
            "_view_module": "@jupyter-widgets/controls",
            "_view_module_version": "1.5.0",
            "_view_name": "ProgressView",
            "bar_style": "success",
            "description": "",
            "description_tooltip": null,
            "layout": "IPY_MODEL_f5225ceeea4b484aa0cb3c9a4de10eae",
            "max": 255,
            "min": 0,
            "orientation": "horizontal",
            "style": "IPY_MODEL_dc660ad534b74e53a0e019e28578050b",
            "value": 255
          }
        },
        "3658680827624836b84a93aaf43835d2": {
          "model_module": "@jupyter-widgets/controls",
          "model_name": "HTMLModel",
          "model_module_version": "1.5.0",
          "state": {
            "_dom_classes": [],
            "_model_module": "@jupyter-widgets/controls",
            "_model_module_version": "1.5.0",
            "_model_name": "HTMLModel",
            "_view_count": null,
            "_view_module": "@jupyter-widgets/controls",
            "_view_module_version": "1.5.0",
            "_view_name": "HTMLView",
            "description": "",
            "description_tooltip": null,
            "layout": "IPY_MODEL_665434851fe646efb759bff161ab50d5",
            "placeholder": "​",
            "style": "IPY_MODEL_0374cd1f309141f2a5f5fc515bc66b30",
            "value": " 256/? [05:31&lt;00:00,  1.19it/s]"
          }
        },
        "4bb46d4ccbba487d96c635bf0733691c": {
          "model_module": "@jupyter-widgets/base",
          "model_name": "LayoutModel",
          "model_module_version": "1.2.0",
          "state": {
            "_model_module": "@jupyter-widgets/base",
            "_model_module_version": "1.2.0",
            "_model_name": "LayoutModel",
            "_view_count": null,
            "_view_module": "@jupyter-widgets/base",
            "_view_module_version": "1.2.0",
            "_view_name": "LayoutView",
            "align_content": null,
            "align_items": null,
            "align_self": null,
            "border": null,
            "bottom": null,
            "display": null,
            "flex": null,
            "flex_flow": null,
            "grid_area": null,
            "grid_auto_columns": null,
            "grid_auto_flow": null,
            "grid_auto_rows": null,
            "grid_column": null,
            "grid_gap": null,
            "grid_row": null,
            "grid_template_areas": null,
            "grid_template_columns": null,
            "grid_template_rows": null,
            "height": null,
            "justify_content": null,
            "justify_items": null,
            "left": null,
            "margin": null,
            "max_height": null,
            "max_width": null,
            "min_height": null,
            "min_width": null,
            "object_fit": null,
            "object_position": null,
            "order": null,
            "overflow": null,
            "overflow_x": null,
            "overflow_y": null,
            "padding": null,
            "right": null,
            "top": null,
            "visibility": null,
            "width": null
          }
        },
        "d004256b25f44671b7ce6607a0d44779": {
          "model_module": "@jupyter-widgets/base",
          "model_name": "LayoutModel",
          "model_module_version": "1.2.0",
          "state": {
            "_model_module": "@jupyter-widgets/base",
            "_model_module_version": "1.2.0",
            "_model_name": "LayoutModel",
            "_view_count": null,
            "_view_module": "@jupyter-widgets/base",
            "_view_module_version": "1.2.0",
            "_view_name": "LayoutView",
            "align_content": null,
            "align_items": null,
            "align_self": null,
            "border": null,
            "bottom": null,
            "display": null,
            "flex": null,
            "flex_flow": null,
            "grid_area": null,
            "grid_auto_columns": null,
            "grid_auto_flow": null,
            "grid_auto_rows": null,
            "grid_column": null,
            "grid_gap": null,
            "grid_row": null,
            "grid_template_areas": null,
            "grid_template_columns": null,
            "grid_template_rows": null,
            "height": null,
            "justify_content": null,
            "justify_items": null,
            "left": null,
            "margin": null,
            "max_height": null,
            "max_width": null,
            "min_height": null,
            "min_width": null,
            "object_fit": null,
            "object_position": null,
            "order": null,
            "overflow": null,
            "overflow_x": null,
            "overflow_y": null,
            "padding": null,
            "right": null,
            "top": null,
            "visibility": null,
            "width": null
          }
        },
        "d49d51bdaac14d498e66bdeb7ff97178": {
          "model_module": "@jupyter-widgets/controls",
          "model_name": "DescriptionStyleModel",
          "model_module_version": "1.5.0",
          "state": {
            "_model_module": "@jupyter-widgets/controls",
            "_model_module_version": "1.5.0",
            "_model_name": "DescriptionStyleModel",
            "_view_count": null,
            "_view_module": "@jupyter-widgets/base",
            "_view_module_version": "1.2.0",
            "_view_name": "StyleView",
            "description_width": ""
          }
        },
        "f5225ceeea4b484aa0cb3c9a4de10eae": {
          "model_module": "@jupyter-widgets/base",
          "model_name": "LayoutModel",
          "model_module_version": "1.2.0",
          "state": {
            "_model_module": "@jupyter-widgets/base",
            "_model_module_version": "1.2.0",
            "_model_name": "LayoutModel",
            "_view_count": null,
            "_view_module": "@jupyter-widgets/base",
            "_view_module_version": "1.2.0",
            "_view_name": "LayoutView",
            "align_content": null,
            "align_items": null,
            "align_self": null,
            "border": null,
            "bottom": null,
            "display": null,
            "flex": null,
            "flex_flow": null,
            "grid_area": null,
            "grid_auto_columns": null,
            "grid_auto_flow": null,
            "grid_auto_rows": null,
            "grid_column": null,
            "grid_gap": null,
            "grid_row": null,
            "grid_template_areas": null,
            "grid_template_columns": null,
            "grid_template_rows": null,
            "height": null,
            "justify_content": null,
            "justify_items": null,
            "left": null,
            "margin": null,
            "max_height": null,
            "max_width": null,
            "min_height": null,
            "min_width": null,
            "object_fit": null,
            "object_position": null,
            "order": null,
            "overflow": null,
            "overflow_x": null,
            "overflow_y": null,
            "padding": null,
            "right": null,
            "top": null,
            "visibility": null,
            "width": null
          }
        },
        "dc660ad534b74e53a0e019e28578050b": {
          "model_module": "@jupyter-widgets/controls",
          "model_name": "ProgressStyleModel",
          "model_module_version": "1.5.0",
          "state": {
            "_model_module": "@jupyter-widgets/controls",
            "_model_module_version": "1.5.0",
            "_model_name": "ProgressStyleModel",
            "_view_count": null,
            "_view_module": "@jupyter-widgets/base",
            "_view_module_version": "1.2.0",
            "_view_name": "StyleView",
            "bar_color": null,
            "description_width": ""
          }
        },
        "665434851fe646efb759bff161ab50d5": {
          "model_module": "@jupyter-widgets/base",
          "model_name": "LayoutModel",
          "model_module_version": "1.2.0",
          "state": {
            "_model_module": "@jupyter-widgets/base",
            "_model_module_version": "1.2.0",
            "_model_name": "LayoutModel",
            "_view_count": null,
            "_view_module": "@jupyter-widgets/base",
            "_view_module_version": "1.2.0",
            "_view_name": "LayoutView",
            "align_content": null,
            "align_items": null,
            "align_self": null,
            "border": null,
            "bottom": null,
            "display": null,
            "flex": null,
            "flex_flow": null,
            "grid_area": null,
            "grid_auto_columns": null,
            "grid_auto_flow": null,
            "grid_auto_rows": null,
            "grid_column": null,
            "grid_gap": null,
            "grid_row": null,
            "grid_template_areas": null,
            "grid_template_columns": null,
            "grid_template_rows": null,
            "height": null,
            "justify_content": null,
            "justify_items": null,
            "left": null,
            "margin": null,
            "max_height": null,
            "max_width": null,
            "min_height": null,
            "min_width": null,
            "object_fit": null,
            "object_position": null,
            "order": null,
            "overflow": null,
            "overflow_x": null,
            "overflow_y": null,
            "padding": null,
            "right": null,
            "top": null,
            "visibility": null,
            "width": null
          }
        },
        "0374cd1f309141f2a5f5fc515bc66b30": {
          "model_module": "@jupyter-widgets/controls",
          "model_name": "DescriptionStyleModel",
          "model_module_version": "1.5.0",
          "state": {
            "_model_module": "@jupyter-widgets/controls",
            "_model_module_version": "1.5.0",
            "_model_name": "DescriptionStyleModel",
            "_view_count": null,
            "_view_module": "@jupyter-widgets/base",
            "_view_module_version": "1.2.0",
            "_view_name": "StyleView",
            "description_width": ""
          }
        }
      }
    }
  },
  "cells": [
    {
      "cell_type": "code",
      "source": [
        "import os\n",
        "\n",
        "#get path to directory\n",
        "os.chdir('/content/drive/MyDrive/Tcrdist3')\n",
        "\n",
        "#get what's in the directory\n",
        "contents = os.listdir()\n",
        "print(\"Contents of the Google Drive directory:\")\n",
        "for item in contents:\n",
        "    print(item)"
      ],
      "metadata": {
        "colab": {
          "base_uri": "https://localhost:8080/"
        },
        "id": "Pp7IhUG7Ar0j",
        "outputId": "ca52ee6a-6b69-4cdb-e756-0f5a8534c8ff"
      },
      "execution_count": null,
      "outputs": [
        {
          "output_type": "stream",
          "name": "stdout",
          "text": [
            "Contents of the Google Drive directory:\n",
            "raw_data.csv\n",
            "dash_human.csv\n",
            "dash2.csv\n",
            "dash.csv\n",
            "dash_beta_airr.csv\n",
            "EBV_SARS_CoV_2_InfluenzaA_raw_data.tsv\n",
            "EBV_SARS_CoV_2_InfluenzaA_raw_data.csv\n",
            "project_one_work.ipynb\n"
          ]
        }
      ]
    },
    {
      "cell_type": "code",
      "source": [
        "#install tcrdist3\n",
        "!pip install git+https://github.com/kmayerb/tcrdist3.git@0.2.2"
      ],
      "metadata": {
        "colab": {
          "base_uri": "https://localhost:8080/"
        },
        "id": "-c10Qk9zAvrJ",
        "outputId": "80811152-f367-42fd-d249-0030b1d9d4a4"
      },
      "execution_count": null,
      "outputs": [
        {
          "output_type": "stream",
          "name": "stdout",
          "text": [
            "Collecting git+https://github.com/kmayerb/tcrdist3.git@0.2.2\n",
            "  Cloning https://github.com/kmayerb/tcrdist3.git (to revision 0.2.2) to /tmp/pip-req-build-kw6gmwpo\n",
            "  Running command git clone --filter=blob:none --quiet https://github.com/kmayerb/tcrdist3.git /tmp/pip-req-build-kw6gmwpo\n",
            "  Running command git checkout -q 04b0b8c2573d04a9d2cb77f7a3aeeed3a0eab167\n",
            "  Resolved https://github.com/kmayerb/tcrdist3.git to commit 04b0b8c2573d04a9d2cb77f7a3aeeed3a0eab167\n",
            "  Preparing metadata (setup.py) ... \u001b[?25l\u001b[?25hdone\n",
            "Requirement already satisfied: pandas>=0.24.2 in /usr/local/lib/python3.10/dist-packages (from tcrdist3==0.2.2) (1.5.3)\n",
            "Requirement already satisfied: numpy>=1.16.4 in /usr/local/lib/python3.10/dist-packages (from tcrdist3==0.2.2) (1.25.2)\n",
            "Collecting parasail>=1.1.17 (from tcrdist3==0.2.2)\n",
            "  Downloading parasail-1.3.4-py2.py3-none-manylinux_2_17_x86_64.manylinux2014_x86_64.whl (15.6 MB)\n",
            "\u001b[2K     \u001b[90m━━━━━━━━━━━━━━━━━━━━━━━━━━━━━━━━━━━━━━━━\u001b[0m \u001b[32m15.6/15.6 MB\u001b[0m \u001b[31m45.9 MB/s\u001b[0m eta \u001b[36m0:00:00\u001b[0m\n",
            "\u001b[?25hRequirement already satisfied: scipy>=1.4.1 in /usr/local/lib/python3.10/dist-packages (from tcrdist3==0.2.2) (1.11.4)\n",
            "Collecting pwseqdist>=0.6 (from tcrdist3==0.2.2)\n",
            "  Downloading pwseqdist-0.6-py3-none-any.whl (29 kB)\n",
            "Requirement already satisfied: numba in /usr/local/lib/python3.10/dist-packages (from tcrdist3==0.2.2) (0.58.1)\n",
            "Collecting zipdist>=0.1.5 (from tcrdist3==0.2.2)\n",
            "  Downloading zipdist-0.1.5-py3-none-any.whl (18 kB)\n",
            "Collecting fishersapi (from tcrdist3==0.2.2)\n",
            "  Downloading fishersapi-0.5-py3-none-any.whl (13 kB)\n",
            "Collecting hierdiff>=0.4 (from tcrdist3==0.2.2)\n",
            "  Downloading hierdiff-0.9-py3-none-any.whl (31 kB)\n",
            "Collecting palmotif>=0.2 (from tcrdist3==0.2.2)\n",
            "  Downloading palmotif-0.4-py3-none-any.whl (20 kB)\n",
            "Collecting tcrsampler>=0.1.9 (from tcrdist3==0.2.2)\n",
            "  Downloading tcrsampler-0.1.9-py3-none-any.whl (438 kB)\n",
            "\u001b[2K     \u001b[90m━━━━━━━━━━━━━━━━━━━━━━━━━━━━━━━━━━━━━━━━\u001b[0m \u001b[32m438.1/438.1 kB\u001b[0m \u001b[31m37.4 MB/s\u001b[0m eta \u001b[36m0:00:00\u001b[0m\n",
            "\u001b[?25hCollecting parmap>=1.5.2 (from tcrdist3==0.2.2)\n",
            "  Downloading parmap-1.7.0-py2.py3-none-any.whl (32 kB)\n",
            "Collecting olga>=1.2.1 (from tcrdist3==0.2.2)\n",
            "  Downloading olga-1.2.4-py3-none-any.whl (366 kB)\n",
            "\u001b[2K     \u001b[90m━━━━━━━━━━━━━━━━━━━━━━━━━━━━━━━━━━━━━━━━\u001b[0m \u001b[32m366.4/366.4 kB\u001b[0m \u001b[31m33.3 MB/s\u001b[0m eta \u001b[36m0:00:00\u001b[0m\n",
            "\u001b[?25hCollecting dill>=0.3.2 (from tcrdist3==0.2.2)\n",
            "  Downloading dill-0.3.8-py3-none-any.whl (116 kB)\n",
            "\u001b[2K     \u001b[90m━━━━━━━━━━━━━━━━━━━━━━━━━━━━━━━━━━━━━━━━\u001b[0m \u001b[32m116.3/116.3 kB\u001b[0m \u001b[31m14.5 MB/s\u001b[0m eta \u001b[36m0:00:00\u001b[0m\n",
            "\u001b[?25hRequirement already satisfied: jinja2>=2.10.1 in /usr/local/lib/python3.10/dist-packages (from hierdiff>=0.4->tcrdist3==0.2.2) (3.1.3)\n",
            "Requirement already satisfied: statsmodels>=0.10 in /usr/local/lib/python3.10/dist-packages (from hierdiff>=0.4->tcrdist3==0.2.2) (0.14.1)\n",
            "Requirement already satisfied: joblib>=0.16 in /usr/local/lib/python3.10/dist-packages (from hierdiff>=0.4->tcrdist3==0.2.2) (1.3.2)\n",
            "Collecting fisher (from fishersapi->tcrdist3==0.2.2)\n",
            "  Downloading fisher-0.1.14-cp310-cp310-manylinux_2_17_x86_64.manylinux2014_x86_64.whl (478 kB)\n",
            "\u001b[2K     \u001b[90m━━━━━━━━━━━━━━━━━━━━━━━━━━━━━━━━━━━━━━━━\u001b[0m \u001b[32m478.0/478.0 kB\u001b[0m \u001b[31m42.5 MB/s\u001b[0m eta \u001b[36m0:00:00\u001b[0m\n",
            "\u001b[?25hRequirement already satisfied: matplotlib in /usr/local/lib/python3.10/dist-packages (from palmotif>=0.2->tcrdist3==0.2.2) (3.7.1)\n",
            "Collecting svgwrite (from palmotif>=0.2->tcrdist3==0.2.2)\n",
            "  Downloading svgwrite-1.4.3-py3-none-any.whl (67 kB)\n",
            "\u001b[2K     \u001b[90m━━━━━━━━━━━━━━━━━━━━━━━━━━━━━━━━━━━━━━━━\u001b[0m \u001b[32m67.1/67.1 kB\u001b[0m \u001b[31m9.1 MB/s\u001b[0m eta \u001b[36m0:00:00\u001b[0m\n",
            "\u001b[?25hRequirement already satisfied: python-dateutil>=2.8.1 in /usr/local/lib/python3.10/dist-packages (from pandas>=0.24.2->tcrdist3==0.2.2) (2.8.2)\n",
            "Requirement already satisfied: pytz>=2020.1 in /usr/local/lib/python3.10/dist-packages (from pandas>=0.24.2->tcrdist3==0.2.2) (2023.4)\n",
            "Collecting progress>=1.5 (from tcrsampler>=0.1.9->tcrdist3==0.2.2)\n",
            "  Downloading progress-1.6.tar.gz (7.8 kB)\n",
            "  Preparing metadata (setup.py) ... \u001b[?25l\u001b[?25hdone\n",
            "Collecting feather-format>=0.4.1 (from zipdist>=0.1.5->tcrdist3==0.2.2)\n",
            "  Downloading feather-format-0.4.1.tar.gz (3.2 kB)\n",
            "  Preparing metadata (setup.py) ... \u001b[?25l\u001b[?25hdone\n",
            "Requirement already satisfied: llvmlite<0.42,>=0.41.0dev0 in /usr/local/lib/python3.10/dist-packages (from numba->tcrdist3==0.2.2) (0.41.1)\n",
            "Requirement already satisfied: pyarrow>=0.4.0 in /usr/local/lib/python3.10/dist-packages (from feather-format>=0.4.1->zipdist>=0.1.5->tcrdist3==0.2.2) (10.0.1)\n",
            "Requirement already satisfied: MarkupSafe>=2.0 in /usr/local/lib/python3.10/dist-packages (from jinja2>=2.10.1->hierdiff>=0.4->tcrdist3==0.2.2) (2.1.5)\n",
            "Requirement already satisfied: six>=1.5 in /usr/local/lib/python3.10/dist-packages (from python-dateutil>=2.8.1->pandas>=0.24.2->tcrdist3==0.2.2) (1.16.0)\n",
            "Requirement already satisfied: patsy>=0.5.4 in /usr/local/lib/python3.10/dist-packages (from statsmodels>=0.10->hierdiff>=0.4->tcrdist3==0.2.2) (0.5.6)\n",
            "Requirement already satisfied: packaging>=21.3 in /usr/local/lib/python3.10/dist-packages (from statsmodels>=0.10->hierdiff>=0.4->tcrdist3==0.2.2) (23.2)\n",
            "Requirement already satisfied: contourpy>=1.0.1 in /usr/local/lib/python3.10/dist-packages (from matplotlib->palmotif>=0.2->tcrdist3==0.2.2) (1.2.0)\n",
            "Requirement already satisfied: cycler>=0.10 in /usr/local/lib/python3.10/dist-packages (from matplotlib->palmotif>=0.2->tcrdist3==0.2.2) (0.12.1)\n",
            "Requirement already satisfied: fonttools>=4.22.0 in /usr/local/lib/python3.10/dist-packages (from matplotlib->palmotif>=0.2->tcrdist3==0.2.2) (4.48.1)\n",
            "Requirement already satisfied: kiwisolver>=1.0.1 in /usr/local/lib/python3.10/dist-packages (from matplotlib->palmotif>=0.2->tcrdist3==0.2.2) (1.4.5)\n",
            "Requirement already satisfied: pillow>=6.2.0 in /usr/local/lib/python3.10/dist-packages (from matplotlib->palmotif>=0.2->tcrdist3==0.2.2) (9.4.0)\n",
            "Requirement already satisfied: pyparsing>=2.3.1 in /usr/local/lib/python3.10/dist-packages (from matplotlib->palmotif>=0.2->tcrdist3==0.2.2) (3.1.1)\n",
            "Building wheels for collected packages: tcrdist3, feather-format, progress\n",
            "  Building wheel for tcrdist3 (setup.py) ... \u001b[?25l\u001b[?25hdone\n",
            "  Created wheel for tcrdist3: filename=tcrdist3-0.2.2-py3-none-any.whl size=2101160 sha256=ce91ea53e864525e5441efaa0d0f8083fb9473be92513c2fc260bb9d82dcc6ef\n",
            "  Stored in directory: /tmp/pip-ephem-wheel-cache-ic7kmr34/wheels/5b/87/da/8bc84e79a0dd1fbdcf9e083340a45dcab784ebdba4cffa91ab\n",
            "  Building wheel for feather-format (setup.py) ... \u001b[?25l\u001b[?25hdone\n",
            "  Created wheel for feather-format: filename=feather_format-0.4.1-py3-none-any.whl size=2435 sha256=462397578156e07f70a2abb605465bbc89bec5aa66f2236c225915dac3b30a7b\n",
            "  Stored in directory: /root/.cache/pip/wheels/a6/ff/5d/4f10de26fe5ddef243c97f13c6cf579d7353d659e41a05c3a6\n",
            "  Building wheel for progress (setup.py) ... \u001b[?25l\u001b[?25hdone\n",
            "  Created wheel for progress: filename=progress-1.6-py3-none-any.whl size=9612 sha256=c1393bfd1783bf215b5f0a24dc8e6c3185883f5c2168780e30ef2a2128dd8abe\n",
            "  Stored in directory: /root/.cache/pip/wheels/a2/68/5f/c339b20a41659d856c93ccdce6a33095493eb82c3964aac5a1\n",
            "Successfully built tcrdist3 feather-format progress\n",
            "Installing collected packages: progress, parmap, olga, svgwrite, parasail, fisher, dill, feather-format, zipdist, tcrsampler, pwseqdist, palmotif, fishersapi, hierdiff, tcrdist3\n",
            "Successfully installed dill-0.3.8 feather-format-0.4.1 fisher-0.1.14 fishersapi-0.5 hierdiff-0.9 olga-1.2.4 palmotif-0.4 parasail-1.3.4 parmap-1.7.0 progress-1.6 pwseqdist-0.6 svgwrite-1.4.3 tcrdist3-0.2.2 tcrsampler-0.1.9 zipdist-0.1.5\n"
          ]
        }
      ]
    },
    {
      "cell_type": "code",
      "source": [
        "import pandas as pd\n",
        "#open tcrdist repertoire\n",
        "from tcrdist.repertoire import TCRrep\n",
        "\n",
        "#read .csv file needed to be utilized\n",
        "df = pd.read_csv(\"EBV_SARS_CoV_2_InfluenzaA_raw_data.csv\")\n",
        "\n",
        "#determine what is going to be computed from the data\n",
        "tr = TCRrep(cell_df = df,\n",
        "            organism = 'human',\n",
        "            chains = ['alpha'],\n",
        "            db_file = 'alphabeta_gammadelta_db.tsv',\n",
        "            compute_distances = False)\n",
        "\n",
        "\"\"\"In this case, alpha sequences were selected in the VDJdb database and\n",
        "so it needed to be determined on what to use. \"\"\""
      ],
      "metadata": {
        "colab": {
          "base_uri": "https://localhost:8080/",
          "height": 198
        },
        "id": "ReJ0oCqvZq6A",
        "outputId": "3c74a2d0-049d-4b25-b145-60fc1aa576a1"
      },
      "execution_count": 60,
      "outputs": [
        {
          "output_type": "stream",
          "name": "stderr",
          "text": [
            "/usr/local/lib/python3.10/dist-packages/tcrdist/repertoire.py:500: UserWarning: nan gene was not recognized in reference db no cdr seq could be inferred\n",
            "  f0 = lambda v : self._map_gene_to_reference_seq2(gene = v,\n",
            "/usr/local/lib/python3.10/dist-packages/tcrdist/repertoire.py:504: UserWarning: nan gene was not recognized in reference db no cdr seq could be inferred\n",
            "  f1 = lambda v : self._map_gene_to_reference_seq2(gene = v,\n",
            "/usr/local/lib/python3.10/dist-packages/tcrdist/repertoire.py:508: UserWarning: nan gene was not recognized in reference db no cdr seq could be inferred\n",
            "  f2 = lambda v : self._map_gene_to_reference_seq2(gene = v,\n",
            "/usr/local/lib/python3.10/dist-packages/tcrdist/repertoire.py:190: UserWarning: Not all cells/sequences could be grouped into clones.220 of 2520 were not captured. This occurs when any of the values in the index columns are null or missing for a given sequence. To see entries with missing values use: tcrdist.repertoire.TCRrep._show_incomplete()\n",
            "  self.deduplicate()\n"
          ]
        },
        {
          "output_type": "execute_result",
          "data": {
            "text/plain": [
              "'In this case, alpha sequences were selected in the VDJdb database and \\nso it needed to be determined on what to use. '"
            ],
            "application/vnd.google.colaboratory.intrinsic+json": {
              "type": "string"
            }
          },
          "metadata": {},
          "execution_count": 60
        }
      ]
    },
    {
      "cell_type": "code",
      "source": [
        "#define the amount of CPU cores to carry out the computations\n",
        "tr.cpus = 4"
      ],
      "metadata": {
        "id": "M0IN7FFWaCDV"
      },
      "execution_count": 61,
      "outputs": []
    },
    {
      "cell_type": "code",
      "source": [
        "#define and compute the distances between the data\n",
        "tr.compute_sparse_rect_distances(radius = 50, chunk_size = 100)"
      ],
      "metadata": {
        "colab": {
          "base_uri": "https://localhost:8080/",
          "height": 49,
          "referenced_widgets": [
            "b8d140413f284d43b14a7f96c4da380c",
            "beb4f50f1e3a4384bf3a6f57273cdc52",
            "f1a37349a0184ca8b5037ce44ff66bff",
            "3658680827624836b84a93aaf43835d2",
            "4bb46d4ccbba487d96c635bf0733691c",
            "d004256b25f44671b7ce6607a0d44779",
            "d49d51bdaac14d498e66bdeb7ff97178",
            "f5225ceeea4b484aa0cb3c9a4de10eae",
            "dc660ad534b74e53a0e019e28578050b",
            "665434851fe646efb759bff161ab50d5",
            "0374cd1f309141f2a5f5fc515bc66b30"
          ]
        },
        "id": "Kj8ygyspaLc3",
        "outputId": "8586c80b-9f38-4602-bfc2-e347bd25ff36"
      },
      "execution_count": 62,
      "outputs": [
        {
          "output_type": "display_data",
          "data": {
            "text/plain": [
              "  0%|          | 0/255 [00:00<?, ?it/s]"
            ],
            "application/vnd.jupyter.widget-view+json": {
              "version_major": 2,
              "version_minor": 0,
              "model_id": "b8d140413f284d43b14a7f96c4da380c"
            }
          },
          "metadata": {}
        }
      ]
    },
    {
      "cell_type": "code",
      "source": [
        "#check if the data has been calculated and converted into a sparse matrix\n",
        "tr.rw_alpha"
      ],
      "metadata": {
        "colab": {
          "base_uri": "https://localhost:8080/"
        },
        "id": "C2CjjX8ObySm",
        "outputId": "ba1911d0-fa94-401a-a077-c2d8af92185c"
      },
      "execution_count": 63,
      "outputs": [
        {
          "output_type": "execute_result",
          "data": {
            "text/plain": [
              "<25436x25436 sparse matrix of type '<class 'numpy.int16'>'\n",
              "\twith 3086668 stored elements in Compressed Sparse Row format>"
            ]
          },
          "metadata": {},
          "execution_count": 63
        }
      ]
    },
    {
      "cell_type": "code",
      "source": [
        "print(tr.rw_alpha)"
      ],
      "metadata": {
        "colab": {
          "base_uri": "https://localhost:8080/"
        },
        "id": "Mj9Dv2NTcHzu",
        "outputId": "8d2008a3-9f96-451f-afbd-497aff043663"
      },
      "execution_count": null,
      "outputs": [
        {
          "output_type": "stream",
          "name": "stdout",
          "text": [
            "  (0, 0)\t-1\n",
            "  (0, 2344)\t48\n",
            "  (0, 2404)\t48\n",
            "  (0, 2432)\t48\n",
            "  (0, 11829)\t45\n",
            "  (0, 15025)\t45\n",
            "  (0, 15477)\t48\n",
            "  (1, 1)\t-1\n",
            "  (1, 177)\t47\n",
            "  (1, 1629)\t47\n",
            "  (1, 1813)\t-1\n",
            "  (1, 2177)\t36\n",
            "  (1, 2262)\t36\n",
            "  (1, 2398)\t36\n",
            "  (1, 2431)\t48\n",
            "  (1, 2450)\t48\n",
            "  (1, 2611)\t9\n",
            "  (1, 7003)\t24\n",
            "  (1, 9028)\t50\n",
            "  (1, 9335)\t33\n",
            "  (1, 13432)\t36\n",
            "  (1, 14812)\t44\n",
            "  (1, 15154)\t36\n",
            "  (1, 15694)\t33\n",
            "  (1, 17558)\t33\n",
            "  :\t:\n",
            "  (25434, 25384)\t-1\n",
            "  (25434, 25386)\t24\n",
            "  (25434, 25388)\t6\n",
            "  (25434, 25390)\t-1\n",
            "  (25434, 25392)\t12\n",
            "  (25434, 25394)\t12\n",
            "  (25434, 25396)\t-1\n",
            "  (25434, 25398)\t-1\n",
            "  (25434, 25400)\t6\n",
            "  (25434, 25402)\t-1\n",
            "  (25434, 25404)\t6\n",
            "  (25434, 25406)\t12\n",
            "  (25434, 25408)\t12\n",
            "  (25434, 25410)\t6\n",
            "  (25434, 25412)\t-1\n",
            "  (25434, 25420)\t6\n",
            "  (25434, 25424)\t6\n",
            "  (25434, 25426)\t24\n",
            "  (25434, 25428)\t-1\n",
            "  (25434, 25430)\t-1\n",
            "  (25434, 25432)\t-1\n",
            "  (25434, 25434)\t-1\n",
            "  (25435, 14669)\t46\n",
            "  (25435, 21749)\t48\n",
            "  (25435, 25435)\t-1\n"
          ]
        }
      ]
    },
    {
      "cell_type": "code",
      "source": [
        "from scipy import sparse"
      ],
      "metadata": {
        "id": "qFoyhW6QfdJA"
      },
      "execution_count": null,
      "outputs": []
    },
    {
      "cell_type": "code",
      "source": [
        "#define what is the sparse matrix\n",
        "sparse_matrix = tr.rw_alpha"
      ],
      "metadata": {
        "id": "xyP3yHRDf0Le"
      },
      "execution_count": 64,
      "outputs": []
    },
    {
      "cell_type": "code",
      "source": [
        "#save the sparse matrix as a .npz file\n",
        "sparse.save_npz(\"sparse_matrix\", sparse_matrix)"
      ],
      "metadata": {
        "id": "9Gol9f_ei-mf"
      },
      "execution_count": 65,
      "outputs": []
    },
    {
      "cell_type": "code",
      "source": [
        "#convert the .npz file to a dense array\n",
        "dense_array = sparse_matrix.toarray()"
      ],
      "metadata": {
        "id": "juD1zvTljFx6"
      },
      "execution_count": 66,
      "outputs": []
    },
    {
      "cell_type": "code",
      "source": [
        "print(dense_array)"
      ],
      "metadata": {
        "colab": {
          "base_uri": "https://localhost:8080/"
        },
        "id": "uL8g0I4RjRJw",
        "outputId": "08ea10ea-9b32-4bff-8017-e40e22f0bc3d"
      },
      "execution_count": null,
      "outputs": [
        {
          "output_type": "stream",
          "name": "stdout",
          "text": [
            "[[-1  0  0 ...  0  0  0]\n",
            " [ 0 -1  0 ...  0  0  0]\n",
            " [ 0  0 -1 ...  0  0  0]\n",
            " ...\n",
            " [ 0  0  0 ... -1  0  0]\n",
            " [ 0  0  0 ...  0 -1  0]\n",
            " [ 0  0  0 ...  0  0 -1]]\n"
          ]
        }
      ]
    }
  ]
}